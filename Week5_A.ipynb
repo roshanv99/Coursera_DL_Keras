{
 "cells": [
  {
   "cell_type": "markdown",
   "metadata": {},
   "source": [
    "## Build a baseline model"
   ]
  },
  {
   "cell_type": "code",
   "execution_count": 39,
   "metadata": {},
   "outputs": [],
   "source": [
    "import pandas as pd\n",
    "import numpy as np\n",
    "import keras\n",
    "from keras.models import Sequential\n",
    "from keras.layers import Dense\n",
    "from sklearn.model_selection import train_test_split"
   ]
  },
  {
   "cell_type": "code",
   "execution_count": 40,
   "metadata": {},
   "outputs": [
    {
     "data": {
      "text/html": [
       "<div>\n",
       "<style scoped>\n",
       "    .dataframe tbody tr th:only-of-type {\n",
       "        vertical-align: middle;\n",
       "    }\n",
       "\n",
       "    .dataframe tbody tr th {\n",
       "        vertical-align: top;\n",
       "    }\n",
       "\n",
       "    .dataframe thead th {\n",
       "        text-align: right;\n",
       "    }\n",
       "</style>\n",
       "<table border=\"1\" class=\"dataframe\">\n",
       "  <thead>\n",
       "    <tr style=\"text-align: right;\">\n",
       "      <th></th>\n",
       "      <th>Cement</th>\n",
       "      <th>Blast Furnace Slag</th>\n",
       "      <th>Fly Ash</th>\n",
       "      <th>Water</th>\n",
       "      <th>Superplasticizer</th>\n",
       "      <th>Coarse Aggregate</th>\n",
       "      <th>Fine Aggregate</th>\n",
       "      <th>Age</th>\n",
       "      <th>Strength</th>\n",
       "    </tr>\n",
       "  </thead>\n",
       "  <tbody>\n",
       "    <tr>\n",
       "      <th>0</th>\n",
       "      <td>540.0</td>\n",
       "      <td>0.0</td>\n",
       "      <td>0.0</td>\n",
       "      <td>162.0</td>\n",
       "      <td>2.5</td>\n",
       "      <td>1040.0</td>\n",
       "      <td>676.0</td>\n",
       "      <td>28</td>\n",
       "      <td>79.99</td>\n",
       "    </tr>\n",
       "    <tr>\n",
       "      <th>1</th>\n",
       "      <td>540.0</td>\n",
       "      <td>0.0</td>\n",
       "      <td>0.0</td>\n",
       "      <td>162.0</td>\n",
       "      <td>2.5</td>\n",
       "      <td>1055.0</td>\n",
       "      <td>676.0</td>\n",
       "      <td>28</td>\n",
       "      <td>61.89</td>\n",
       "    </tr>\n",
       "    <tr>\n",
       "      <th>2</th>\n",
       "      <td>332.5</td>\n",
       "      <td>142.5</td>\n",
       "      <td>0.0</td>\n",
       "      <td>228.0</td>\n",
       "      <td>0.0</td>\n",
       "      <td>932.0</td>\n",
       "      <td>594.0</td>\n",
       "      <td>270</td>\n",
       "      <td>40.27</td>\n",
       "    </tr>\n",
       "    <tr>\n",
       "      <th>3</th>\n",
       "      <td>332.5</td>\n",
       "      <td>142.5</td>\n",
       "      <td>0.0</td>\n",
       "      <td>228.0</td>\n",
       "      <td>0.0</td>\n",
       "      <td>932.0</td>\n",
       "      <td>594.0</td>\n",
       "      <td>365</td>\n",
       "      <td>41.05</td>\n",
       "    </tr>\n",
       "    <tr>\n",
       "      <th>4</th>\n",
       "      <td>198.6</td>\n",
       "      <td>132.4</td>\n",
       "      <td>0.0</td>\n",
       "      <td>192.0</td>\n",
       "      <td>0.0</td>\n",
       "      <td>978.4</td>\n",
       "      <td>825.5</td>\n",
       "      <td>360</td>\n",
       "      <td>44.30</td>\n",
       "    </tr>\n",
       "  </tbody>\n",
       "</table>\n",
       "</div>"
      ],
      "text/plain": [
       "   Cement  Blast Furnace Slag  Fly Ash  Water  Superplasticizer  \\\n",
       "0   540.0                 0.0      0.0  162.0               2.5   \n",
       "1   540.0                 0.0      0.0  162.0               2.5   \n",
       "2   332.5               142.5      0.0  228.0               0.0   \n",
       "3   332.5               142.5      0.0  228.0               0.0   \n",
       "4   198.6               132.4      0.0  192.0               0.0   \n",
       "\n",
       "   Coarse Aggregate  Fine Aggregate  Age  Strength  \n",
       "0            1040.0           676.0   28     79.99  \n",
       "1            1055.0           676.0   28     61.89  \n",
       "2             932.0           594.0  270     40.27  \n",
       "3             932.0           594.0  365     41.05  \n",
       "4             978.4           825.5  360     44.30  "
      ]
     },
     "execution_count": 40,
     "metadata": {},
     "output_type": "execute_result"
    }
   ],
   "source": [
    "concrete_data = pd.read_csv('https://s3-api.us-geo.objectstorage.softlayer.net/cf-courses-data/CognitiveClass/DL0101EN/labs/data/concrete_data.csv')\n",
    "concrete_data.head()"
   ]
  },
  {
   "cell_type": "code",
   "execution_count": 42,
   "metadata": {},
   "outputs": [
    {
     "data": {
      "text/plain": [
       "0    79.99\n",
       "1    61.89\n",
       "2    40.27\n",
       "3    41.05\n",
       "4    44.30\n",
       "Name: Strength, dtype: float64"
      ]
     },
     "execution_count": 42,
     "metadata": {},
     "output_type": "execute_result"
    }
   ],
   "source": [
    "concrete_data_columns = concrete_data.columns\n",
    "\n",
    "predictors = concrete_data[concrete_data_columns[concrete_data_columns != 'Strength']] # all columns except Strength\n",
    "target = concrete_data['Strength'] # Strength column\n",
    "target.head()"
   ]
  },
  {
   "cell_type": "code",
   "execution_count": 43,
   "metadata": {},
   "outputs": [
    {
     "data": {
      "text/plain": [
       "8"
      ]
     },
     "execution_count": 43,
     "metadata": {},
     "output_type": "execute_result"
    }
   ],
   "source": [
    "n_cols = predictors.shape[1] \n",
    "n_cols"
   ]
  },
  {
   "cell_type": "code",
   "execution_count": 44,
   "metadata": {},
   "outputs": [],
   "source": [
    "def regression_model():\n",
    "    model = Sequential()\n",
    "    model.add(Dense(10,activation = 'relu', input_shape=(n_cols,)))\n",
    "    model.add(Dense(1))\n",
    "    model.compile(optimizer='adam', loss='mean_squared_error')\n",
    "    return model"
   ]
  },
  {
   "cell_type": "code",
   "execution_count": 45,
   "metadata": {},
   "outputs": [],
   "source": [
    "#Split the data into train and test\n",
    "X_train, X_test, y_train, y_test = train_test_split(predictors, target, test_size=0.3, random_state=42)"
   ]
  },
  {
   "cell_type": "code",
   "execution_count": 46,
   "metadata": {},
   "outputs": [
    {
     "name": "stdout",
     "output_type": "stream",
     "text": [
      "Train on 504 samples, validate on 217 samples\n",
      "Epoch 1/50\n",
      " - 1s - loss: 228732.4432 - val_loss: 194052.1321\n",
      "Epoch 2/50\n",
      " - 0s - loss: 174348.3509 - val_loss: 146993.6791\n",
      "Epoch 3/50\n",
      " - 0s - loss: 132704.5093 - val_loss: 112023.5920\n",
      "Epoch 4/50\n",
      " - 0s - loss: 101820.8957 - val_loss: 86642.5805\n",
      "Epoch 5/50\n",
      " - 0s - loss: 79486.0604 - val_loss: 68783.5356\n",
      "Epoch 6/50\n",
      " - 0s - loss: 63785.2545 - val_loss: 55981.2504\n",
      "Epoch 7/50\n",
      " - 0s - loss: 52199.9226 - val_loss: 46267.0419\n",
      "Epoch 8/50\n",
      " - 0s - loss: 43275.4585 - val_loss: 38612.7167\n",
      "Epoch 9/50\n",
      " - 0s - loss: 36251.5486 - val_loss: 32469.6404\n",
      "Epoch 10/50\n",
      " - 0s - loss: 30612.0302 - val_loss: 27479.2232\n",
      "Epoch 11/50\n",
      " - 0s - loss: 26028.1588 - val_loss: 23411.0118\n",
      "Epoch 12/50\n",
      " - 0s - loss: 22263.2108 - val_loss: 20066.8093\n",
      "Epoch 13/50\n",
      " - 0s - loss: 19166.0919 - val_loss: 17229.9675\n",
      "Epoch 14/50\n",
      " - 0s - loss: 16518.8987 - val_loss: 14861.1034\n",
      "Epoch 15/50\n",
      " - 0s - loss: 14301.6049 - val_loss: 12821.3284\n",
      "Epoch 16/50\n",
      " - 0s - loss: 12396.7861 - val_loss: 11078.3608\n",
      "Epoch 17/50\n",
      " - 0s - loss: 10757.4563 - val_loss: 9603.5917\n",
      "Epoch 18/50\n",
      " - 0s - loss: 9369.8778 - val_loss: 8343.5587\n",
      "Epoch 19/50\n",
      " - 0s - loss: 8176.1364 - val_loss: 7259.5797\n",
      "Epoch 20/50\n",
      " - 0s - loss: 7149.6579 - val_loss: 6339.6022\n",
      "Epoch 21/50\n",
      " - 0s - loss: 6280.8669 - val_loss: 5548.2755\n",
      "Epoch 22/50\n",
      " - 0s - loss: 5521.1817 - val_loss: 4887.2256\n",
      "Epoch 23/50\n",
      " - 0s - loss: 4869.8628 - val_loss: 4324.9673\n",
      "Epoch 24/50\n",
      " - 0s - loss: 4323.8617 - val_loss: 3845.3650\n",
      "Epoch 25/50\n",
      " - 0s - loss: 3856.1821 - val_loss: 3451.0967\n",
      "Epoch 26/50\n",
      " - 0s - loss: 3464.7037 - val_loss: 3126.7683\n",
      "Epoch 27/50\n",
      " - 0s - loss: 3148.5858 - val_loss: 2852.5685\n",
      "Epoch 28/50\n",
      " - 0s - loss: 2885.9999 - val_loss: 2623.9016\n",
      "Epoch 29/50\n",
      " - 0s - loss: 2665.1423 - val_loss: 2449.4741\n",
      "Epoch 30/50\n",
      " - 0s - loss: 2497.1373 - val_loss: 2300.8392\n",
      "Epoch 31/50\n",
      " - 0s - loss: 2354.1527 - val_loss: 2187.1889\n",
      "Epoch 32/50\n",
      " - 0s - loss: 2248.2502 - val_loss: 2091.9896\n",
      "Epoch 33/50\n",
      " - 0s - loss: 2155.9888 - val_loss: 2020.5317\n",
      "Epoch 34/50\n",
      " - 0s - loss: 2088.3910 - val_loss: 1962.0913\n",
      "Epoch 35/50\n",
      " - 0s - loss: 2033.5617 - val_loss: 1914.8011\n",
      "Epoch 36/50\n",
      " - 0s - loss: 1986.4747 - val_loss: 1875.0164\n",
      "Epoch 37/50\n",
      " - 0s - loss: 1947.3716 - val_loss: 1842.2378\n",
      "Epoch 38/50\n",
      " - 0s - loss: 1915.1112 - val_loss: 1814.3414\n",
      "Epoch 39/50\n",
      " - 0s - loss: 1888.0596 - val_loss: 1789.0575\n",
      "Epoch 40/50\n",
      " - 0s - loss: 1864.3637 - val_loss: 1768.1290\n",
      "Epoch 41/50\n",
      " - 0s - loss: 1844.9664 - val_loss: 1750.0726\n",
      "Epoch 42/50\n",
      " - 0s - loss: 1828.1465 - val_loss: 1734.0453\n",
      "Epoch 43/50\n",
      " - 0s - loss: 1812.6834 - val_loss: 1719.4683\n",
      "Epoch 44/50\n",
      " - 0s - loss: 1799.0682 - val_loss: 1706.1477\n",
      "Epoch 45/50\n",
      " - 0s - loss: 1786.1136 - val_loss: 1694.4773\n",
      "Epoch 46/50\n",
      " - 0s - loss: 1774.6388 - val_loss: 1684.1271\n",
      "Epoch 47/50\n",
      " - 0s - loss: 1764.9732 - val_loss: 1674.3050\n",
      "Epoch 48/50\n",
      " - 0s - loss: 1756.2290 - val_loss: 1665.0262\n",
      "Epoch 49/50\n",
      " - 0s - loss: 1748.4946 - val_loss: 1656.4737\n",
      "Epoch 50/50\n",
      " - 0s - loss: 1741.1071 - val_loss: 1648.4004\n"
     ]
    },
    {
     "data": {
      "text/plain": [
       "<keras.callbacks.History at 0x7f079dfe9dd8>"
      ]
     },
     "execution_count": 46,
     "metadata": {},
     "output_type": "execute_result"
    }
   ],
   "source": [
    "model = regression_model()\n",
    "#We will leave 30% of the data for testing/validating the model\n",
    "model.fit(X_train, y_train, validation_split=0.3, epochs=50, verbose=2)"
   ]
  },
  {
   "cell_type": "code",
   "execution_count": 47,
   "metadata": {},
   "outputs": [
    {
     "name": "stdout",
     "output_type": "stream",
     "text": [
      "309/309 [==============================] - 0s 72us/step\n"
     ]
    },
    {
     "data": {
      "text/plain": [
       "1580.7913936874243"
      ]
     },
     "execution_count": 47,
     "metadata": {},
     "output_type": "execute_result"
    }
   ],
   "source": [
    "#Testing\n",
    "loss_val = model.evaluate(X_test, y_test)\n",
    "y_pred = model.predict(X_test)\n",
    "loss_val"
   ]
  },
  {
   "cell_type": "code",
   "execution_count": 48,
   "metadata": {},
   "outputs": [],
   "source": [
    "from sklearn.metrics import mean_squared_error"
   ]
  },
  {
   "cell_type": "code",
   "execution_count": 49,
   "metadata": {},
   "outputs": [
    {
     "name": "stdout",
     "output_type": "stream",
     "text": [
      "95.72059631796559 0.0\n"
     ]
    }
   ],
   "source": [
    "mse = mean_squared_error(y_test, y_pred)\n",
    "standard_deviation = np.std(mse)\n",
    "print(mean, standard_deviation)"
   ]
  },
  {
   "cell_type": "code",
   "execution_count": 51,
   "metadata": {},
   "outputs": [
    {
     "name": "stdout",
     "output_type": "stream",
     "text": [
      "1426.1301222125303\n",
      "1413.1900737478509\n",
      "1285.6760222302285\n",
      "1262.3520808050162\n",
      "1153.8307532646895\n",
      "1062.118849473478\n",
      "1201.7432399120146\n",
      "954.846392881523\n",
      "954.6859695780239\n",
      "869.925111838529\n",
      "829.1490644436439\n",
      "710.8386637369791\n",
      "710.4904055302197\n",
      "716.2587422491277\n",
      "673.0179427557392\n",
      "552.0299583854799\n",
      "513.4922967312019\n",
      "542.0222835602498\n",
      "500.5449981195641\n",
      "488.72305979312046\n",
      "456.07096709711266\n",
      "448.38659707473704\n",
      "415.0862922545004\n",
      "388.288591749074\n",
      "321.58557168411204\n",
      "326.20409850086594\n",
      "361.16546265438535\n",
      "299.8148002747965\n",
      "351.01572395991354\n",
      "287.0335517562323\n",
      "299.954539277407\n",
      "267.4262282979527\n",
      "245.4713610800339\n",
      "291.5341069983819\n",
      "282.9048122171445\n",
      "286.8036181008546\n",
      "287.40519669912396\n",
      "258.1386909855222\n",
      "288.1498588882989\n",
      "265.12130668171017\n",
      "260.3650111720014\n",
      "249.7412354305724\n",
      "271.32108156272125\n",
      "275.35073368603355\n",
      "272.28764901269216\n",
      "274.5533093202461\n",
      "286.4371301842353\n",
      "278.9901219834016\n",
      "263.43150216013095\n",
      "273.7856963815041\n",
      "Mean: 1666.6970998123063\n",
      "Standard Deviation: 54.35568647261169\n"
     ]
    }
   ],
   "source": [
    "total_mean_squared_errors = 50\n",
    "mean_squared_errors = []\n",
    "for i in range(0, total_mean_squared_errors):\n",
    "    X_train, X_test, y_train, y_test = train_test_split(predictors, target, test_size=0.3, random_state=i)\n",
    "    model.fit(X_train, y_train, epochs=50, verbose=0)\n",
    "    MSE = model.evaluate(X_test, y_test, verbose=0)\n",
    "    print(MSE)\n",
    "    y_red = model.predict(X_test)\n",
    "    mean_square_error = mean_squared_error(y_test, y_pred)\n",
    "    mean_squared_errors.append(mean_square_error)\n",
    "\n",
    "mean_squared_errors = np.array(mean_squared_errors)\n",
    "mean = np.mean(mean_squared_errors)\n",
    "standard_deviation = np.std(mean_squared_errors)\n",
    "\n",
    "\n",
    "\n",
    "print(\"Mean: \"+str(mean))\n",
    "print(\"Standard Deviation: \"+str(standard_deviation))"
   ]
  }
 ],
 "metadata": {
  "kernelspec": {
   "display_name": "Python",
   "language": "python",
   "name": "conda-env-python-py"
  },
  "language_info": {
   "codemirror_mode": {
    "name": "ipython",
    "version": 3
   },
   "file_extension": ".py",
   "mimetype": "text/x-python",
   "name": "python",
   "nbconvert_exporter": "python",
   "pygments_lexer": "ipython3",
   "version": "3.6.10"
  }
 },
 "nbformat": 4,
 "nbformat_minor": 4
}
